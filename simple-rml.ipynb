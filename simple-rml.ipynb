{
 "cells": [
  {
   "attachments": {},
   "cell_type": "markdown",
   "metadata": {},
   "source": [
    "# Experiments with RML using ChatGPT \n",
    "\n",
    "The purpose of this notebook is to learn how to use Morph-kgc and Kglab's interface to morph-kgc to load a knowledge graph from a csv file.\n",
    "\n",
    "## ChatGPT Prompt\n",
    "> I would like a simple rml, csv, and vocabulary turtle example to test and understand the morph-kgc library in a ipython notebook. Could you generate an example?\n",
    "\n",
    "ChatGPT produced a csv, ttl and rml.ttl mapping as well as python code using morh-kgc. It hallucinates the interface to morph_kgc, so you will need to look at the actual documentation to use it.\n",
    "\n",
    "Bing Chat Produced:\n",
    "> Sure, I can help you with that. The **morph-kgc** library is a powerful engine that constructs RDF and RDF-star knowledge graphs from heterogeneous data sources with the R2RML, RML and RML-star mapping languages¹². It supports various input data formats, such as CSV, JSON, XML, and relational databases¹². It also integrates with RDFLib and Oxigraph¹².\n",
    "\n",
    "> To use this library, you need to install it with `pip install morph-kgc`¹². Then you need to create a configuration INI file that specifies the data source and the mapping file¹². For example, if your CSV file is located at `/path/to/data.csv` and your RML mapping file is at `/path/to/mapping.rml.ttl`, your configuration file could look like this:\n",
    "\n",
    "```ini\n",
    "[DataSource1]\n",
    "mappings: /path/to/mapping.rml.ttl\n",
    "db_url: csv:///path/to/data.csv\n",
    "```\n",
    "\n",
    "> Then you can run the engine via command line with `python3 -m morph_kgc config.ini`¹². This will generate the triples and load them to an RDFLib graph. Alternatively, you can run the engine as a library with RDFLib or Oxigraph¹². For example:\n",
    "\n",
    "```python\n",
    "import morph_kgc\n",
    "\n",
    "# generate the triples and load them to an RDFLib graph\n",
    "g_rdflib = morph_kgc.materialize('/path/to/config.ini')\n",
    "\n",
    "# work with the RDFLib graph\n",
    "q_res = g_rdflib.query('SELECT DISTINCT ?classes WHERE { ?s a ?classes }')\n",
    "```\n",
    "\n",
    "> You can find more details and examples in the documentation¹ or the tutorial¹.\n",
    "\n",
    "Source: Conversation with Bing, 3/31/2023(1) morph-kgc · PyPI. https://pypi.org/project/morph-kgc/ Accessed 3/31/2023.\n",
    "(2) GitHub - morph-kgc/morph-kgc: Powerful RDF Knowledge Graph Generation .... https://github.com/morph-kgc/morph-kgc Accessed 3/31/2023.\n",
    "```"
   ]
  },
  {
   "cell_type": "code",
   "execution_count": 4,
   "metadata": {},
   "outputs": [
    {
     "name": "stderr",
     "output_type": "stream",
     "text": [
      "INFO | 2023-03-31 13:24:14,755 | Parallelization is not supported for darwin when running as a library. If you need to speed up your data integration pipeline, please run through the command line.\n",
      "INFO | 2023-03-31 13:24:14,872 | 4 mapping rules retrieved.\n",
      "INFO | 2023-03-31 13:24:14,876 | Mapping partition with 4 groups generated.\n",
      "INFO | 2023-03-31 13:24:14,877 | Maximum number of rules within mapping group: 1.\n",
      "INFO | 2023-03-31 13:24:14,877 | Mappings processed in 0.120 seconds.\n",
      "INFO | 2023-03-31 13:24:14,896 | Number of triples generated in total: 12.\n"
     ]
    },
    {
     "name": "stdout",
     "output_type": "stream",
     "text": [
      "http://example.org/person/2 http://example.org/city Los Angeles\n",
      "http://example.org/person/3 http://example.org/city Chicago\n",
      "http://example.org/person/3 http://example.org/age 22\n",
      "http://example.org/person/1 http://www.w3.org/1999/02/22-rdf-syntax-ns#type http://example.org/Person\n",
      "http://example.org/person/1 http://example.org/age 30\n",
      "http://example.org/person/3 http://example.org/name Carol\n",
      "http://example.org/person/2 http://example.org/age 25\n",
      "http://example.org/person/1 http://example.org/city New York\n",
      "http://example.org/person/2 http://www.w3.org/1999/02/22-rdf-syntax-ns#type http://example.org/Person\n",
      "http://example.org/person/2 http://example.org/name Bob\n",
      "http://example.org/person/3 http://www.w3.org/1999/02/22-rdf-syntax-ns#type http://example.org/Person\n",
      "http://example.org/person/1 http://example.org/name Alice\n"
     ]
    }
   ],
   "source": [
    "import morph_kgc\n",
    "\n",
    "# generate the triples and load them to an RDFLib graph\n",
    "g_rdflib = morph_kgc.materialize('./config.ini')\n",
    "\n",
    "for s, p, o in g_rdflib:\n",
    "    print(s, p, o)\n",
    "\n",
    "# work with the RDFLib graph\n",
    "q_res = g_rdflib.query('SELECT ?s ?p ?o WHERE {?s ?p ?o .}')"
   ]
  },
  {
   "attachments": {},
   "cell_type": "markdown",
   "metadata": {},
   "source": [
    "> Sure, I can tell you that. **KGlab** is a library that provides a simple abstraction layer in Python for building knowledge graphs, integrated with popular graph libraries such as Pandas, NetworkX, RAPIDS, RDFLib, Morph-KGC, and many more¹². It allows you to create, manipulate, query, and visualize knowledge graphs in a unified way¹².\n",
    "\n",
    "> To use this with Morph-KGC, you need to install both libraries with `pip install kglab morph-kgc`¹². Then you can use the `kglab.KnowledgeGraph` class to create a knowledge graph object and load RDF data from a data source and a mapping file using Morph-KGC¹. For example:\n",
    "\n",
    "```python\n",
    "import kglab\n",
    "\n",
    "# create a KnowledgeGraph object\n",
    "kg = kglab.KnowledgeGraph()\n",
    "\n",
    "# load RDF data from a CSV file and a RML mapping file using Morph-KGC\n",
    "kg.load_rdf(\"/path/to/config.ini\", format=\"morph-kgc\")\n",
    "\n",
    "# work with the KnowledgeGraph object\n",
    "print(kg.get_node_count())\n",
    "print(kg.get_edge_count())\n",
    "```\n",
    "\n",
    "You can find more details and examples in the documentation¹ or the tutorial¹.\n",
    "\n",
    "Source: Conversation with Bing, 3/31/2023(1) kglab · PyPI. https://pypi.org/project/kglab/ Accessed 3/31/2023.\n",
    "(2) GitHub - DerwenAI/kglab: Graph Data Science: an abstraction layer in .... https://github.com/DerwenAI/kglab Accessed 3/31/2023."
   ]
  },
  {
   "cell_type": "code",
   "execution_count": 5,
   "metadata": {},
   "outputs": [
    {
     "name": "stderr",
     "output_type": "stream",
     "text": [
      "INFO | 2023-03-31 13:24:41,306 | Parallelization is not supported for darwin when running as a library. If you need to speed up your data integration pipeline, please run through the command line.\n",
      "INFO | 2023-03-31 13:24:41,428 | 4 mapping rules retrieved.\n",
      "INFO | 2023-03-31 13:24:41,432 | Mapping partition with 4 groups generated.\n",
      "INFO | 2023-03-31 13:24:41,433 | Maximum number of rules within mapping group: 1.\n",
      "INFO | 2023-03-31 13:24:41,433 | Mappings processed in 0.125 seconds.\n",
      "INFO | 2023-03-31 13:24:41,452 | Number of triples generated in total: 12.\n"
     ]
    },
    {
     "name": "stdout",
     "output_type": "stream",
     "text": [
      "@prefix ns1: <http://example.org/> .\n",
      "@prefix xsd: <http://www.w3.org/2001/XMLSchema#> .\n",
      "\n",
      "<http://example.org/person/1> a ns1:Person ;\n",
      "    ns1:age 30 ;\n",
      "    ns1:city \"New York\" ;\n",
      "    ns1:name \"Alice\" .\n",
      "\n",
      "<http://example.org/person/2> a ns1:Person ;\n",
      "    ns1:age 25 ;\n",
      "    ns1:city \"Los Angeles\" ;\n",
      "    ns1:name \"Bob\" .\n",
      "\n",
      "<http://example.org/person/3> a ns1:Person ;\n",
      "    ns1:age 22 ;\n",
      "    ns1:city \"Chicago\" ;\n",
      "    ns1:name \"Carol\" .\n",
      "\n",
      "\n"
     ]
    }
   ],
   "source": [
    "import kglab\n",
    "\n",
    "namespaces = {\n",
    "    \"ex\":  \"http://example.com/\",\n",
    "    }\n",
    "\n",
    "# create a KnowledgeGraph object\n",
    "kg = kglab.KnowledgeGraph(name = \"A KG example with students and sports\",\n",
    "    namespaces = namespaces,\n",
    "    )\n",
    "\n",
    "# load RDF data from a CSV file and a RML mapping file using Morph-KGC\n",
    "kg.materialize(\"./config.ini\")\n",
    "\n",
    "# serialize as a string in \"Turtle\" TTL format\n",
    "ttl = kg.save_rdf_text(format=\"ttl\")\n",
    "print(ttl)"
   ]
  },
  {
   "cell_type": "code",
   "execution_count": null,
   "metadata": {},
   "outputs": [],
   "source": []
  }
 ],
 "metadata": {
  "kernelspec": {
   "display_name": "base",
   "language": "python",
   "name": "python3"
  },
  "language_info": {
   "codemirror_mode": {
    "name": "ipython",
    "version": 3
   },
   "file_extension": ".py",
   "mimetype": "text/x-python",
   "name": "python",
   "nbconvert_exporter": "python",
   "pygments_lexer": "ipython3",
   "version": "3.10.9"
  },
  "orig_nbformat": 4
 },
 "nbformat": 4,
 "nbformat_minor": 2
}
