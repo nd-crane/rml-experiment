{
 "cells": [
  {
   "attachments": {},
   "cell_type": "markdown",
   "metadata": {},
   "source": [
    "# Experiments with RML using ChatGPT\n",
    "\n",
    "## ChatGPT Prompt\n",
    "> I would like a simple rml, csv, and vocabulary turtle example to test and understand the morph-kgc library in a ipython notebook. Could you generate an example?\n",
    "\n",
    "ChatGPT produced a csv, ttl and rml.ttl mapping as well as python code using morh-kgc. It hallucinates the interface to morph_kgc, so you will need to look at the actual documentation to use it.\n",
    "\n",
    "Bing Chat Produced:\n",
    "> Sure, I can help you with that. The **morph-kgc** library is a powerful engine that constructs RDF and RDF-star knowledge graphs from heterogeneous data sources with the R2RML, RML and RML-star mapping languages¹². It supports various input data formats, such as CSV, JSON, XML, and relational databases¹². It also integrates with RDFLib and Oxigraph¹².\n",
    "\n",
    "> To use this library, you need to install it with `pip install morph-kgc`¹². Then you need to create a configuration INI file that specifies the data source and the mapping file¹². For example, if your CSV file is located at `/path/to/data.csv` and your RML mapping file is at `/path/to/mapping.rml.ttl`, your configuration file could look like this:\n",
    "\n",
    "```ini\n",
    "[DataSource1]\n",
    "mappings: /path/to/mapping.rml.ttl\n",
    "db_url: csv:///path/to/data.csv\n",
    "```\n",
    "\n",
    "> Then you can run the engine via command line with `python3 -m morph_kgc config.ini`¹². This will generate the triples and load them to an RDFLib graph. Alternatively, you can run the engine as a library with RDFLib or Oxigraph¹². For example:\n",
    "\n",
    "```python\n",
    "import morph_kgc\n",
    "\n",
    "# generate the triples and load them to an RDFLib graph\n",
    "g_rdflib = morph_kgc.materialize('/path/to/config.ini')\n",
    "\n",
    "# work with the RDFLib graph\n",
    "q_res = g_rdflib.query('SELECT DISTINCT ?classes WHERE { ?s a ?classes }')\n",
    "```\n",
    "\n",
    "> You can find more details and examples in the documentation¹ or the tutorial¹.\n",
    "\n",
    "Source: Conversation with Bing, 3/31/2023(1) morph-kgc · PyPI. https://pypi.org/project/morph-kgc/ Accessed 3/31/2023.\n",
    "(2) GitHub - morph-kgc/morph-kgc: Powerful RDF Knowledge Graph Generation .... https://github.com/morph-kgc/morph-kgc Accessed 3/31/2023.\n",
    "```"
   ]
  },
  {
   "cell_type": "code",
   "execution_count": 6,
   "metadata": {},
   "outputs": [
    {
     "name": "stderr",
     "output_type": "stream",
     "text": [
      "INFO | 2023-03-31 09:57:49,413 | Parallelization is not supported for darwin when running as a library. If you need to speed up your data integration pipeline, please run through the command line.\n",
      "INFO | 2023-03-31 09:57:49,529 | 4 mapping rules retrieved.\n",
      "INFO | 2023-03-31 09:57:49,534 | Mapping partition with 4 groups generated.\n",
      "INFO | 2023-03-31 09:57:49,534 | Maximum number of rules within mapping group: 1.\n",
      "INFO | 2023-03-31 09:57:49,534 | Mappings processed in 0.119 seconds.\n",
      "INFO | 2023-03-31 09:57:49,546 | Number of triples generated in total: 0.\n"
     ]
    }
   ],
   "source": [
    "import morph_kgc\n",
    "\n",
    "# generate the triples and load them to an RDFLib graph\n",
    "g_rdflib = morph_kgc.materialize('./config.ini')\n",
    "\n",
    "# work with the RDFLib graph\n",
    "q_res = g_rdflib.query('SELECT ?s ?p ?o WHERE {?s ?p ?o .}')"
   ]
  },
  {
   "attachments": {},
   "cell_type": "markdown",
   "metadata": {},
   "source": [
    "> Sure, I can tell you that. **KGlab** is a library that provides a simple abstraction layer in Python for building knowledge graphs, integrated with popular graph libraries such as Pandas, NetworkX, RAPIDS, RDFLib, Morph-KGC, and many more¹². It allows you to create, manipulate, query, and visualize knowledge graphs in a unified way¹².\n",
    "\n",
    "> To use this with Morph-KGC, you need to install both libraries with `pip install kglab morph-kgc`¹². Then you can use the `kglab.KnowledgeGraph` class to create a knowledge graph object and load RDF data from a data source and a mapping file using Morph-KGC¹. For example:\n",
    "\n",
    "```python\n",
    "import kglab\n",
    "\n",
    "# create a KnowledgeGraph object\n",
    "kg = kglab.KnowledgeGraph()\n",
    "\n",
    "# load RDF data from a CSV file and a RML mapping file using Morph-KGC\n",
    "kg.load_rdf(\"/path/to/config.ini\", format=\"morph-kgc\")\n",
    "\n",
    "# work with the KnowledgeGraph object\n",
    "print(kg.get_node_count())\n",
    "print(kg.get_edge_count())\n",
    "```\n",
    "\n",
    "You can find more details and examples in the documentation¹ or the tutorial¹.\n",
    "\n",
    "Source: Conversation with Bing, 3/31/2023(1) kglab · PyPI. https://pypi.org/project/kglab/ Accessed 3/31/2023.\n",
    "(2) GitHub - DerwenAI/kglab: Graph Data Science: an abstraction layer in .... https://github.com/DerwenAI/kglab Accessed 3/31/2023."
   ]
  },
  {
   "cell_type": "code",
   "execution_count": 5,
   "metadata": {},
   "outputs": [
    {
     "ename": "TypeError",
     "evalue": "unknown format: {format}",
     "output_type": "error",
     "traceback": [
      "\u001b[0;31m---------------------------------------------------------------------------\u001b[0m",
      "\u001b[0;31mKeyError\u001b[0m                                  Traceback (most recent call last)",
      "File \u001b[0;32m~/.local/lib/python3.10/site-packages/rdflib/plugin.py:127\u001b[0m, in \u001b[0;36mget\u001b[0;34m(name, kind)\u001b[0m\n\u001b[1;32m    126\u001b[0m \u001b[39mtry\u001b[39;00m:\n\u001b[0;32m--> 127\u001b[0m     p: Plugin[PluginT] \u001b[39m=\u001b[39m _plugins[(name, kind)]\n\u001b[1;32m    128\u001b[0m \u001b[39mexcept\u001b[39;00m \u001b[39mKeyError\u001b[39;00m:\n",
      "\u001b[0;31mKeyError\u001b[0m: ('morph-kgc', <class 'rdflib.serializer.Serializer'>)",
      "\nDuring handling of the above exception, another exception occurred:\n",
      "\u001b[0;31mPluginException\u001b[0m                           Traceback (most recent call last)",
      "File \u001b[0;32m~/.local/lib/python3.10/site-packages/kglab/serde.py:105\u001b[0m, in \u001b[0;36mSerdeMixin._check_format\u001b[0;34m(cls, format)\u001b[0m\n\u001b[1;32m    104\u001b[0m \u001b[39mtry\u001b[39;00m:\n\u001b[0;32m--> 105\u001b[0m     rdflib\u001b[39m.\u001b[39;49mplugin\u001b[39m.\u001b[39;49mget(\u001b[39mformat\u001b[39;49m, rdflib\u001b[39m.\u001b[39;49mserializer\u001b[39m.\u001b[39;49mSerializer)\n\u001b[1;32m    106\u001b[0m \u001b[39mexcept\u001b[39;00m \u001b[39mException\u001b[39;00m:\n",
      "File \u001b[0;32m~/.local/lib/python3.10/site-packages/rdflib/plugin.py:129\u001b[0m, in \u001b[0;36mget\u001b[0;34m(name, kind)\u001b[0m\n\u001b[1;32m    128\u001b[0m \u001b[39mexcept\u001b[39;00m \u001b[39mKeyError\u001b[39;00m:\n\u001b[0;32m--> 129\u001b[0m     \u001b[39mraise\u001b[39;00m PluginException(\u001b[39m\"\u001b[39m\u001b[39mNo plugin registered for (\u001b[39m\u001b[39m%s\u001b[39;00m\u001b[39m, \u001b[39m\u001b[39m%s\u001b[39;00m\u001b[39m)\u001b[39m\u001b[39m\"\u001b[39m \u001b[39m%\u001b[39m (name, kind))\n\u001b[1;32m    130\u001b[0m \u001b[39mreturn\u001b[39;00m p\u001b[39m.\u001b[39mgetClass()\n",
      "\u001b[0;31mPluginException\u001b[0m: No plugin registered for (morph-kgc, <class 'rdflib.serializer.Serializer'>)",
      "\nDuring handling of the above exception, another exception occurred:\n",
      "\u001b[0;31mTypeError\u001b[0m                                 Traceback (most recent call last)",
      "Cell \u001b[0;32mIn[5], line 7\u001b[0m\n\u001b[1;32m      4\u001b[0m kg \u001b[39m=\u001b[39m kglab\u001b[39m.\u001b[39mKnowledgeGraph()\n\u001b[1;32m      6\u001b[0m \u001b[39m# load RDF data from a CSV file and a RML mapping file using Morph-KGC\u001b[39;00m\n\u001b[0;32m----> 7\u001b[0m kg\u001b[39m.\u001b[39;49mload_rdf(\u001b[39m\"\u001b[39;49m\u001b[39m/path/to/config.ini\u001b[39;49m\u001b[39m\"\u001b[39;49m, \u001b[39mformat\u001b[39;49m\u001b[39m=\u001b[39;49m\u001b[39m\"\u001b[39;49m\u001b[39mmorph-kgc\u001b[39;49m\u001b[39m\"\u001b[39;49m)\n\u001b[1;32m      9\u001b[0m \u001b[39m# work with the KnowledgeGraph object\u001b[39;00m\n\u001b[1;32m     10\u001b[0m \u001b[39mprint\u001b[39m(kg\u001b[39m.\u001b[39mget_node_count())\n",
      "File \u001b[0;32m~/.local/lib/python3.10/site-packages/kglab/decorators.py:76\u001b[0m, in \u001b[0;36mmultifile.<locals>.decorator.<locals>.wrapper\u001b[0;34m(*args, **kwargs)\u001b[0m\n\u001b[1;32m     74\u001b[0m \u001b[39mif\u001b[39;00m \u001b[39misinstance\u001b[39m(path, \u001b[39mstr\u001b[39m):\n\u001b[1;32m     75\u001b[0m     \u001b[39mif\u001b[39;00m \u001b[39m\"\u001b[39m\u001b[39m*\u001b[39m\u001b[39m\"\u001b[39m \u001b[39mnot\u001b[39;00m \u001b[39min\u001b[39;00m path:\n\u001b[0;32m---> 76\u001b[0m         \u001b[39mreturn\u001b[39;00m f(\u001b[39m*\u001b[39;49margs, \u001b[39m*\u001b[39;49m\u001b[39m*\u001b[39;49mkwargs)\n\u001b[1;32m     78\u001b[0m     \u001b[39m# initialize the path list with a parsed glob\u001b[39;00m\n\u001b[1;32m     79\u001b[0m     path_list \u001b[39m=\u001b[39m glob(path)\n",
      "File \u001b[0;32m~/.local/lib/python3.10/site-packages/kglab/serde.py:182\u001b[0m, in \u001b[0;36mSerdeMixin.load_rdf\u001b[0;34m(self, path, format, base, **args)\u001b[0m\n\u001b[1;32m    179\u001b[0m \u001b[39mif\u001b[39;00m \u001b[39mformat\u001b[39m \u001b[39m==\u001b[39m \u001b[39m\"\u001b[39m\u001b[39mjson-ld\u001b[39m\u001b[39m\"\u001b[39m:\n\u001b[1;32m    180\u001b[0m     \u001b[39mraise\u001b[39;00m \u001b[39mTypeError\u001b[39;00m(\u001b[39m\"\u001b[39m\u001b[39mUse the load_jsonld() method instead\u001b[39m\u001b[39m\"\u001b[39m)\n\u001b[0;32m--> 182\u001b[0m \u001b[39mself\u001b[39;49m\u001b[39m.\u001b[39;49m_check_format(\u001b[39mformat\u001b[39;49m)\n\u001b[1;32m    184\u001b[0m \u001b[39m# substitute the `KnowledgeGraph.base_uri` as the document base, if used\u001b[39;00m\n\u001b[1;32m    185\u001b[0m \u001b[39mif\u001b[39;00m \u001b[39mnot\u001b[39;00m base \u001b[39mand\u001b[39;00m \u001b[39mself\u001b[39m\u001b[39m.\u001b[39mbase_uri:\n",
      "File \u001b[0;32m~/.local/lib/python3.10/site-packages/kglab/serde.py:107\u001b[0m, in \u001b[0;36mSerdeMixin._check_format\u001b[0;34m(cls, format)\u001b[0m\n\u001b[1;32m    105\u001b[0m     rdflib\u001b[39m.\u001b[39mplugin\u001b[39m.\u001b[39mget(\u001b[39mformat\u001b[39m, rdflib\u001b[39m.\u001b[39mserializer\u001b[39m.\u001b[39mSerializer)\n\u001b[1;32m    106\u001b[0m \u001b[39mexcept\u001b[39;00m \u001b[39mException\u001b[39;00m:\n\u001b[0;32m--> 107\u001b[0m     \u001b[39mraise\u001b[39;00m \u001b[39mTypeError\u001b[39;00m(\u001b[39m\"\u001b[39m\u001b[39munknown format: \u001b[39m\u001b[39m{format}\u001b[39;00m\u001b[39m\"\u001b[39m)\n",
      "\u001b[0;31mTypeError\u001b[0m: unknown format: {format}"
     ]
    }
   ],
   "source": [
    "import kglab\n",
    "\n",
    "# create a KnowledgeGraph object\n",
    "kg = kglab.KnowledgeGraph()\n",
    "\n",
    "# load RDF data from a CSV file and a RML mapping file using Morph-KGC\n",
    "kg.load_rdf(\"/path/to/config.ini\", format=\"morph-kgc\")\n",
    "\n",
    "# work with the KnowledgeGraph object\n",
    "print(kg.get_node_count())\n",
    "print(kg.get_edge_count())"
   ]
  }
 ],
 "metadata": {
  "kernelspec": {
   "display_name": "base",
   "language": "python",
   "name": "python3"
  },
  "language_info": {
   "codemirror_mode": {
    "name": "ipython",
    "version": 3
   },
   "file_extension": ".py",
   "mimetype": "text/x-python",
   "name": "python",
   "nbconvert_exporter": "python",
   "pygments_lexer": "ipython3",
   "version": "3.10.9"
  },
  "orig_nbformat": 4
 },
 "nbformat": 4,
 "nbformat_minor": 2
}
